{
 "cells": [
  {
   "cell_type": "code",
   "execution_count": 10,
   "id": "6cfb2f54-1ce6-4cb9-9371-a20c0cf82859",
   "metadata": {},
   "outputs": [],
   "source": [
    "# load the vader library for sentiment analysis\n",
    "import pandas as pd\n",
    "import numpy as np\n",
    "import OpenBlender\n",
    "import json\n",
    "%matplotlib inline\n",
    "import matplotlib\n",
    "from pathlib import Path\n",
    "from vaderSentiment.vaderSentiment import SentimentIntensityAnalyzer\n",
    "analyzer = SentimentIntensityAnalyzer()\n",
    "\n"
   ]
  },
  {
   "cell_type": "code",
   "execution_count": 2,
   "id": "260eda81-33b9-4d4f-a5c7-7c1c1bbacec2",
   "metadata": {},
   "outputs": [],
   "source": [
    "# get sentiment score applying the vaderSentiment functions\n",
    "file_path = Path(\"crypto_id_dataset_news.csv\")\n",
    "initial_db2 = pd.read_csv(file_path )"
   ]
  },
  {
   "cell_type": "code",
   "execution_count": 3,
   "id": "409b5596-0df5-477e-afeb-863ae186592e",
   "metadata": {},
   "outputs": [],
   "source": [
    "# get sentiment score applying the vaderSentiment functions\n",
    "initial_db2['sentiment'] = initial_db2['VEC.CRYPTOCURR.text_last1days:bitcoin'].apply(analyzer.polarity_scores)"
   ]
  },
  {
   "cell_type": "code",
   "execution_count": 4,
   "id": "a56200d5-d219-4766-bb60-9d6936a7917c",
   "metadata": {},
   "outputs": [],
   "source": [
    "initial_db2['sentiment_comp'] = [c['compound'] for c in initial_db2['sentiment']]\n",
    "initial_db2['sentiment_pos'] = [c['pos'] for c in initial_db2['sentiment']]\n",
    "initial_db2['sentiment_neg'] = [c['neg'] for c in initial_db2['sentiment']]"
   ]
  },
  {
   "cell_type": "code",
   "execution_count": 5,
   "id": "9203d2c6-6632-416e-829a-b7ead9fc1792",
   "metadata": {},
   "outputs": [],
   "source": [
    "file_path =  Path(\"Bitcoin_prices_target.csv\")\n",
    "btc_market = pd.read_csv(file_path )"
   ]
  },
  {
   "cell_type": "code",
   "execution_count": 6,
   "id": "527f269c-65d9-4702-b702-ed76cada44d6",
   "metadata": {},
   "outputs": [],
   "source": [
    "combined_df = initial_db2.merge(btc_market, on = 'timestamp')"
   ]
  },
  {
   "cell_type": "code",
   "execution_count": 43,
   "id": "8fb43e7d-e6eb-46fb-a0ae-ffc1e5755dcb",
   "metadata": {},
   "outputs": [
    {
     "name": "stdout",
     "output_type": "stream",
     "text": [
      "Index(['Unnamed: 0_x', 'date_x', 'timestamp', 'close_x', 'target_x',\n",
      "       'VEC.timestamp', 'VEC.CRYPTOCURR.text_COUNT_last1days:bitcoin',\n",
      "       'VEC.CRYPTOCURR.text_last1days:bitcoin', 'sentiment', 'sentiment_comp',\n",
      "       'sentiment_pos', 'sentiment_neg', 'Unnamed: 0_y', 'date_y', 'close_y',\n",
      "       'target_y'],\n",
      "      dtype='object')\n"
     ]
    }
   ],
   "source": [
    "combined_df.to_csv(r'combined_df.csv')\n",
    "print(combined_df.columns)\n"
   ]
  },
  {
   "cell_type": "code",
   "execution_count": 47,
   "id": "f2d67282-e531-4d52-aa2c-4e3e52174e97",
   "metadata": {},
   "outputs": [
    {
     "data": {
      "text/html": [
       "<div>\n",
       "<style scoped>\n",
       "    .dataframe tbody tr th:only-of-type {\n",
       "        vertical-align: middle;\n",
       "    }\n",
       "\n",
       "    .dataframe tbody tr th {\n",
       "        vertical-align: top;\n",
       "    }\n",
       "\n",
       "    .dataframe thead th {\n",
       "        text-align: right;\n",
       "    }\n",
       "</style>\n",
       "<table border=\"1\" class=\"dataframe\">\n",
       "  <thead>\n",
       "    <tr style=\"text-align: right;\">\n",
       "      <th></th>\n",
       "      <th>timestamp</th>\n",
       "      <th>close_x</th>\n",
       "      <th>target_x</th>\n",
       "      <th>sentiment_comp</th>\n",
       "      <th>sentiment_neg</th>\n",
       "      <th>sentiment_pos</th>\n",
       "    </tr>\n",
       "  </thead>\n",
       "  <tbody>\n",
       "    <tr>\n",
       "      <th>0</th>\n",
       "      <td>1.631984e+09</td>\n",
       "      <td>48292.74</td>\n",
       "      <td>1</td>\n",
       "      <td>0.4559</td>\n",
       "      <td>0.079</td>\n",
       "      <td>0.111</td>\n",
       "    </tr>\n",
       "    <tr>\n",
       "      <th>1</th>\n",
       "      <td>1.631898e+09</td>\n",
       "      <td>47299.98</td>\n",
       "      <td>0</td>\n",
       "      <td>0.9719</td>\n",
       "      <td>0.000</td>\n",
       "      <td>0.233</td>\n",
       "    </tr>\n",
       "    <tr>\n",
       "      <th>2</th>\n",
       "      <td>1.631812e+09</td>\n",
       "      <td>47737.82</td>\n",
       "      <td>0</td>\n",
       "      <td>-0.2598</td>\n",
       "      <td>0.112</td>\n",
       "      <td>0.115</td>\n",
       "    </tr>\n",
       "    <tr>\n",
       "      <th>3</th>\n",
       "      <td>1.631725e+09</td>\n",
       "      <td>48121.41</td>\n",
       "      <td>1</td>\n",
       "      <td>0.8829</td>\n",
       "      <td>0.009</td>\n",
       "      <td>0.083</td>\n",
       "    </tr>\n",
       "    <tr>\n",
       "      <th>4</th>\n",
       "      <td>1.631639e+09</td>\n",
       "      <td>47111.52</td>\n",
       "      <td>1</td>\n",
       "      <td>-0.8655</td>\n",
       "      <td>0.108</td>\n",
       "      <td>0.027</td>\n",
       "    </tr>\n",
       "    <tr>\n",
       "      <th>...</th>\n",
       "      <td>...</td>\n",
       "      <td>...</td>\n",
       "      <td>...</td>\n",
       "      <td>...</td>\n",
       "      <td>...</td>\n",
       "      <td>...</td>\n",
       "    </tr>\n",
       "    <tr>\n",
       "      <th>673</th>\n",
       "      <td>1.578244e+09</td>\n",
       "      <td>7358.75</td>\n",
       "      <td>1</td>\n",
       "      <td>0.3818</td>\n",
       "      <td>0.000</td>\n",
       "      <td>0.110</td>\n",
       "    </tr>\n",
       "    <tr>\n",
       "      <th>674</th>\n",
       "      <td>1.578157e+09</td>\n",
       "      <td>7354.11</td>\n",
       "      <td>1</td>\n",
       "      <td>0.0000</td>\n",
       "      <td>0.000</td>\n",
       "      <td>0.000</td>\n",
       "    </tr>\n",
       "    <tr>\n",
       "      <th>675</th>\n",
       "      <td>1.578071e+09</td>\n",
       "      <td>7344.96</td>\n",
       "      <td>1</td>\n",
       "      <td>-0.8539</td>\n",
       "      <td>0.342</td>\n",
       "      <td>0.075</td>\n",
       "    </tr>\n",
       "    <tr>\n",
       "      <th>676</th>\n",
       "      <td>1.577984e+09</td>\n",
       "      <td>6965.71</td>\n",
       "      <td>0</td>\n",
       "      <td>0.0000</td>\n",
       "      <td>0.000</td>\n",
       "      <td>0.000</td>\n",
       "    </tr>\n",
       "    <tr>\n",
       "      <th>677</th>\n",
       "      <td>1.577898e+09</td>\n",
       "      <td>7200.85</td>\n",
       "      <td>1</td>\n",
       "      <td>0.0000</td>\n",
       "      <td>0.000</td>\n",
       "      <td>0.000</td>\n",
       "    </tr>\n",
       "  </tbody>\n",
       "</table>\n",
       "<p>678 rows × 6 columns</p>\n",
       "</div>"
      ],
      "text/plain": [
       "        timestamp   close_x  target_x  sentiment_comp  sentiment_neg  \\\n",
       "0    1.631984e+09  48292.74         1          0.4559          0.079   \n",
       "1    1.631898e+09  47299.98         0          0.9719          0.000   \n",
       "2    1.631812e+09  47737.82         0         -0.2598          0.112   \n",
       "3    1.631725e+09  48121.41         1          0.8829          0.009   \n",
       "4    1.631639e+09  47111.52         1         -0.8655          0.108   \n",
       "..            ...       ...       ...             ...            ...   \n",
       "673  1.578244e+09   7358.75         1          0.3818          0.000   \n",
       "674  1.578157e+09   7354.11         1          0.0000          0.000   \n",
       "675  1.578071e+09   7344.96         1         -0.8539          0.342   \n",
       "676  1.577984e+09   6965.71         0          0.0000          0.000   \n",
       "677  1.577898e+09   7200.85         1          0.0000          0.000   \n",
       "\n",
       "     sentiment_pos  \n",
       "0            0.111  \n",
       "1            0.233  \n",
       "2            0.115  \n",
       "3            0.083  \n",
       "4            0.027  \n",
       "..             ...  \n",
       "673          0.110  \n",
       "674          0.000  \n",
       "675          0.075  \n",
       "676          0.000  \n",
       "677          0.000  \n",
       "\n",
       "[678 rows x 6 columns]"
      ]
     },
     "execution_count": 47,
     "metadata": {},
     "output_type": "execute_result"
    }
   ],
   "source": [
    "data = [combined_df[\"timestamp\"], combined_df[\"close_x\"],combined_df[\"target_x\"],combined_df[\"sentiment_comp\"], combined_df[\"sentiment_neg\"], combined_df[\"sentiment_pos\"]]\n",
    "\n",
    "df3 = pd.concat(data, axis=1)\n",
    "df3"
   ]
  },
  {
   "cell_type": "code",
   "execution_count": 45,
   "id": "afd9aa80-e5d9-48e7-b4df-f5500f0c49ed",
   "metadata": {},
   "outputs": [
    {
     "name": "stdout",
     "output_type": "stream",
     "text": [
      "target_x          1.000000\n",
      "sentiment_pos    -0.011291\n",
      "sentiment_neg    -0.042116\n",
      "sentiment_comp   -0.063642\n",
      "Name: target_x, dtype: float64\n"
     ]
    }
   ],
   "source": [
    "features = ['target_x', 'sentiment_pos', 'sentiment_neg','sentiment_comp']\n",
    "combined_df[features].corr()['target_x']\n",
    "df_anchor = combined_df[features].corr()['target_x']\n",
    "print(df_anchor)"
   ]
  },
  {
   "cell_type": "code",
   "execution_count": null,
   "id": "42a8684c-6e31-4dda-b835-2fc5da4fb2f3",
   "metadata": {},
   "outputs": [],
   "source": []
  }
 ],
 "metadata": {
  "kernelspec": {
   "display_name": "Python 3",
   "language": "python",
   "name": "python3"
  },
  "language_info": {
   "codemirror_mode": {
    "name": "ipython",
    "version": 3
   },
   "file_extension": ".py",
   "mimetype": "text/x-python",
   "name": "python",
   "nbconvert_exporter": "python",
   "pygments_lexer": "ipython3",
   "version": "3.8.8"
  }
 },
 "nbformat": 4,
 "nbformat_minor": 5
}
