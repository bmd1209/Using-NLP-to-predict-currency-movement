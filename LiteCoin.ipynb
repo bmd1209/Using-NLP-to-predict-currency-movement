{
 "cells": [
  {
   "cell_type": "code",
   "execution_count": 4,
   "id": "aa33a0d5-4c62-4f58-b947-b48c93ca88a6",
   "metadata": {},
   "outputs": [],
   "source": [
    "import pandas as pd\n",
    "import numpy as np\n",
    "import OpenBlender\n",
    "import json\n",
    "%matplotlib inline\n",
    "import matplotlib"
   ]
  },
  {
   "cell_type": "code",
   "execution_count": 5,
   "id": "3a066209-f103-4634-8a3c-380ed349e34a",
   "metadata": {},
   "outputs": [
    {
     "name": "stdout",
     "output_type": "stream",
     "text": [
      "Task ID: '615262a80895fafb4a9d8d4b'.\n",
      "Total estimated consumption: 500.06 processing units.\n",
      "Task confirmed. Starting download..\n",
      "100.0 % completed.\n"
     ]
    }
   ],
   "source": [
    "token = '61521f809516292e82e5264aLvxmIcHpcGcHzuZ4a0e2hplW40Tn24'\n",
    "action = 'API_getObservationsFromDataset'\n",
    "# ANCHOR: 'Lit vs USD'\n",
    "parameters = {\n",
    "    'token' : token,\n",
    "    'id_dataset' : '5d4c94f59516290b02fecb02',\n",
    "    'date_filter':{\"start_date\" : \"2020-01-01\",\n",
    "                   \"end_date\" : \"2021-09-19\"}\n",
    "}\n",
    "df = pd.read_json(json.dumps(OpenBlender.call(action, parameters)['sample']),\n",
    "                  convert_dates=False, convert_axes=False).sort_values('timestamp', ascending=False)\n",
    "df.reset_index(drop=True, inplace=True)\n",
    "df['date'] = [OpenBlender.unixToDate(ts, timezone = 'GMT') for ts in df.timestamp]\n",
    "df = df.drop('timestamp', axis = 1)"
   ]
  },
  {
   "cell_type": "code",
   "execution_count": 6,
   "id": "4b520534-96c6-4d25-bf7a-51f377db555d",
   "metadata": {},
   "outputs": [
    {
     "name": "stdout",
     "output_type": "stream",
     "text": [
      "(586, 7)\n"
     ]
    }
   ],
   "source": [
    "print(df.shape)"
   ]
  },
  {
   "cell_type": "code",
   "execution_count": 7,
   "id": "bfcf9178-c3f3-4acd-826e-e74faaa9cd1a",
   "metadata": {},
   "outputs": [],
   "source": [
    "df.head()\n",
    "df.to_csv(r'Lit_prices.csv')"
   ]
  },
  {
   "cell_type": "code",
   "execution_count": 8,
   "id": "e1c817ce-2180-44e2-ba35-faeb4fa2c9f2",
   "metadata": {},
   "outputs": [
    {
     "data": {
      "text/html": [
       "<div>\n",
       "<style scoped>\n",
       "    .dataframe tbody tr th:only-of-type {\n",
       "        vertical-align: middle;\n",
       "    }\n",
       "\n",
       "    .dataframe tbody tr th {\n",
       "        vertical-align: top;\n",
       "    }\n",
       "\n",
       "    .dataframe thead th {\n",
       "        text-align: right;\n",
       "    }\n",
       "</style>\n",
       "<table border=\"1\" class=\"dataframe\">\n",
       "  <thead>\n",
       "    <tr style=\"text-align: right;\">\n",
       "      <th></th>\n",
       "      <th>volume</th>\n",
       "      <th>market_cap</th>\n",
       "      <th>high</th>\n",
       "      <th>low</th>\n",
       "      <th>close</th>\n",
       "      <th>open</th>\n",
       "      <th>date</th>\n",
       "      <th>log_diff</th>\n",
       "    </tr>\n",
       "  </thead>\n",
       "  <tbody>\n",
       "    <tr>\n",
       "      <th>0</th>\n",
       "      <td>372409.22400</td>\n",
       "      <td>372409.22400</td>\n",
       "      <td>185.80</td>\n",
       "      <td>177.90</td>\n",
       "      <td>181.40</td>\n",
       "      <td>180.00</td>\n",
       "      <td>18-09-2021 17:00:00</td>\n",
       "      <td>0.007748</td>\n",
       "    </tr>\n",
       "    <tr>\n",
       "      <th>1</th>\n",
       "      <td>372409.22400</td>\n",
       "      <td>372409.22400</td>\n",
       "      <td>185.80</td>\n",
       "      <td>177.90</td>\n",
       "      <td>181.40</td>\n",
       "      <td>180.00</td>\n",
       "      <td>18-09-2021 17:00:00</td>\n",
       "      <td>0.007748</td>\n",
       "    </tr>\n",
       "    <tr>\n",
       "      <th>2</th>\n",
       "      <td>566767.06900</td>\n",
       "      <td>566767.06900</td>\n",
       "      <td>190.50</td>\n",
       "      <td>177.50</td>\n",
       "      <td>180.00</td>\n",
       "      <td>185.20</td>\n",
       "      <td>17-09-2021 17:00:00</td>\n",
       "      <td>-0.028479</td>\n",
       "    </tr>\n",
       "    <tr>\n",
       "      <th>3</th>\n",
       "      <td>566767.06900</td>\n",
       "      <td>566767.06900</td>\n",
       "      <td>190.50</td>\n",
       "      <td>177.50</td>\n",
       "      <td>180.00</td>\n",
       "      <td>185.20</td>\n",
       "      <td>17-09-2021 17:00:00</td>\n",
       "      <td>-0.028479</td>\n",
       "    </tr>\n",
       "    <tr>\n",
       "      <th>4</th>\n",
       "      <td>935286.23100</td>\n",
       "      <td>935286.23100</td>\n",
       "      <td>195.40</td>\n",
       "      <td>181.50</td>\n",
       "      <td>185.20</td>\n",
       "      <td>189.10</td>\n",
       "      <td>16-09-2021 17:00:00</td>\n",
       "      <td>-0.020840</td>\n",
       "    </tr>\n",
       "    <tr>\n",
       "      <th>...</th>\n",
       "      <td>...</td>\n",
       "      <td>...</td>\n",
       "      <td>...</td>\n",
       "      <td>...</td>\n",
       "      <td>...</td>\n",
       "      <td>...</td>\n",
       "      <td>...</td>\n",
       "      <td>...</td>\n",
       "    </tr>\n",
       "    <tr>\n",
       "      <th>581</th>\n",
       "      <td>291964.84958</td>\n",
       "      <td>291964.84958</td>\n",
       "      <td>44.61</td>\n",
       "      <td>42.60</td>\n",
       "      <td>43.30</td>\n",
       "      <td>42.79</td>\n",
       "      <td>05-01-2020 17:00:00</td>\n",
       "      <td>0.011848</td>\n",
       "    </tr>\n",
       "    <tr>\n",
       "      <th>582</th>\n",
       "      <td>248814.62818</td>\n",
       "      <td>248814.62818</td>\n",
       "      <td>42.90</td>\n",
       "      <td>41.77</td>\n",
       "      <td>42.78</td>\n",
       "      <td>42.23</td>\n",
       "      <td>04-01-2020 17:00:00</td>\n",
       "      <td>0.012940</td>\n",
       "    </tr>\n",
       "    <tr>\n",
       "      <th>583</th>\n",
       "      <td>426771.00676</td>\n",
       "      <td>426771.00676</td>\n",
       "      <td>42.39</td>\n",
       "      <td>38.77</td>\n",
       "      <td>42.23</td>\n",
       "      <td>39.44</td>\n",
       "      <td>03-01-2020 17:00:00</td>\n",
       "      <td>0.068350</td>\n",
       "    </tr>\n",
       "    <tr>\n",
       "      <th>584</th>\n",
       "      <td>194486.21570</td>\n",
       "      <td>194486.21570</td>\n",
       "      <td>41.74</td>\n",
       "      <td>39.17</td>\n",
       "      <td>39.43</td>\n",
       "      <td>41.58</td>\n",
       "      <td>02-01-2020 17:00:00</td>\n",
       "      <td>-0.053092</td>\n",
       "    </tr>\n",
       "    <tr>\n",
       "      <th>585</th>\n",
       "      <td>110044.87445</td>\n",
       "      <td>110044.87445</td>\n",
       "      <td>42.08</td>\n",
       "      <td>41.16</td>\n",
       "      <td>41.62</td>\n",
       "      <td>41.29</td>\n",
       "      <td>01-01-2020 17:00:00</td>\n",
       "      <td>0.007960</td>\n",
       "    </tr>\n",
       "  </tbody>\n",
       "</table>\n",
       "<p>586 rows × 8 columns</p>\n",
       "</div>"
      ],
      "text/plain": [
       "           volume    market_cap    high     low   close    open  \\\n",
       "0    372409.22400  372409.22400  185.80  177.90  181.40  180.00   \n",
       "1    372409.22400  372409.22400  185.80  177.90  181.40  180.00   \n",
       "2    566767.06900  566767.06900  190.50  177.50  180.00  185.20   \n",
       "3    566767.06900  566767.06900  190.50  177.50  180.00  185.20   \n",
       "4    935286.23100  935286.23100  195.40  181.50  185.20  189.10   \n",
       "..            ...           ...     ...     ...     ...     ...   \n",
       "581  291964.84958  291964.84958   44.61   42.60   43.30   42.79   \n",
       "582  248814.62818  248814.62818   42.90   41.77   42.78   42.23   \n",
       "583  426771.00676  426771.00676   42.39   38.77   42.23   39.44   \n",
       "584  194486.21570  194486.21570   41.74   39.17   39.43   41.58   \n",
       "585  110044.87445  110044.87445   42.08   41.16   41.62   41.29   \n",
       "\n",
       "                    date  log_diff  \n",
       "0    18-09-2021 17:00:00  0.007748  \n",
       "1    18-09-2021 17:00:00  0.007748  \n",
       "2    17-09-2021 17:00:00 -0.028479  \n",
       "3    17-09-2021 17:00:00 -0.028479  \n",
       "4    16-09-2021 17:00:00 -0.020840  \n",
       "..                   ...       ...  \n",
       "581  05-01-2020 17:00:00  0.011848  \n",
       "582  04-01-2020 17:00:00  0.012940  \n",
       "583  03-01-2020 17:00:00  0.068350  \n",
       "584  02-01-2020 17:00:00 -0.053092  \n",
       "585  01-01-2020 17:00:00  0.007960  \n",
       "\n",
       "[586 rows x 8 columns]"
      ]
     },
     "execution_count": 8,
     "metadata": {},
     "output_type": "execute_result"
    }
   ],
   "source": [
    "df['log_diff'] = np.log(df['close']) - np.log(df['open'])\n",
    "df"
   ]
  },
  {
   "cell_type": "code",
   "execution_count": 9,
   "id": "98483bae-a847-4d3e-a87c-9295bf27e217",
   "metadata": {},
   "outputs": [],
   "source": [
    "df['target'] = [1 if log_diff > 0 else 0 for log_diff in df['log_diff']]\n",
    "df\n",
    "df.to_csv(r'Lit_prices_log.csv')"
   ]
  },
  {
   "cell_type": "code",
   "execution_count": 10,
   "id": "22bb0d5e-91cf-4843-ace6-63cb5bd95184",
   "metadata": {},
   "outputs": [],
   "source": [
    "format = '%d-%m-%Y %H:%M:%S'\n",
    "timezone = 'GMT'\n",
    "df['timestamp'] = OpenBlender.dateToUnix(df['date'], date_format = format, timezone = timezone)\n",
    "df = df[['date', 'timestamp', 'close', 'target']]\n",
    "df.to_csv(r'Lit_prices_target.csv')"
   ]
  },
  {
   "cell_type": "code",
   "execution_count": 14,
   "id": "bd287480-2a70-4864-be78-33c7bd276291",
   "metadata": {},
   "outputs": [
    {
     "name": "stdout",
     "output_type": "stream",
     "text": [
      "Task ID: '615263c50895fafb4a9d8d4c'.\n",
      "Total estimated consumption: 2675.2 processing units.\n",
      "Task confirmed. Starting download..\n",
      "100%\n"
     ]
    }
   ],
   "source": [
    "text_filter = {'name' : 'bitcoin',\n",
    "               'match_ngrams': ['positive', 'buy', 'bitcoin',\n",
    "                                'bull', 'boost','optimistic','strength','rally','negative',\n",
    "                                'loss', 'drop', 'plummet', 'sell', 'fundraising',\n",
    "                                'dump','slip','bear']}\n",
    "# We need to add the 'id_dataset' and the 'feature' name we want.\n",
    "blend_source = {\n",
    "                'id_dataset':'5ea209c495162936348f13eb',\n",
    "                'feature' : 'text',\n",
    "                'filter_text' : text_filter\n",
    "            }\n",
    "# Now, let's 'timeBlend' it to our dataset\n",
    "df_blend = OpenBlender.timeBlend( token = token,\n",
    "                                  anchor_ts = df.timestamp,\n",
    "                                  blend_source = blend_source,\n",
    "                                  blend_type = 'agg_in_intervals',\n",
    "                                  interval_size = 60 * 60 * 24,\n",
    "                                  direction = 'time_prior',\n",
    "                                  interval_output = 'list'\n",
    "                                  ).add_prefix('VEC.')\n",
    "df_anchor = pd.concat([df, df_blend.loc[:, df_blend.columns != 'timestamp']], axis = 1)\n",
    "df_anchor\n",
    "df_anchor.to_csv(r'crypto_id_dataset_news.csv')"
   ]
  },
  {
   "cell_type": "code",
   "execution_count": 15,
   "id": "cafbf869-db68-4bbb-87ee-b7f90ee0c88d",
   "metadata": {},
   "outputs": [
    {
     "name": "stdout",
     "output_type": "stream",
     "text": [
      "Task ID: '615263cc0895fafb4a9d8d4c'.\n",
      "Total estimated consumption: 2675.2 processing units.\n",
      "Task confirmed. Starting download..\n",
      "100%\n",
      "Task ID: '615263d00895fafb4a9d8d4c'.\n",
      "Total estimated consumption: 2675.2 processing units.\n",
      "Task confirmed. Starting download..\n",
      "100%\n"
     ]
    }
   ],
   "source": [
    "# We add the ngrams to match on a 'positive' feature.\n",
    "positive_filter = {'name' : 'positive',\n",
    "                   'match_ngrams': ['positive', 'buy',\n",
    "                                    'bull', 'boost','optimistic','strength','rally']}\n",
    "blend_source = {\n",
    "                'id_dataset':'5ea209c495162936348f13eb',\n",
    "                'feature' : 'text',\n",
    "                'filter_text' : positive_filter\n",
    "            }\n",
    "df_blend = OpenBlender.timeBlend( token = token,\n",
    "                                  anchor_ts = df.timestamp,\n",
    "                                  blend_source = blend_source,\n",
    "                                  blend_type = 'agg_in_intervals',\n",
    "                                  interval_size = 60 * 60 * 24,\n",
    "                                  direction = 'time_prior',\n",
    "                                  interval_output = 'list',\n",
    "                                  missing_values = 'raw')\n",
    "df = pd.concat([df, df_blend.loc[:, df_blend.columns != 'timestamp']], axis = 1)\n",
    "# And now the negatives\n",
    "negative_filter = {'name' : 'negative',\n",
    "                   'match_ngrams': ['negative','loss', 'drop', 'plummet', 'sell', 'fundraising','dump','slip','bear']}\n",
    "blend_source = {\n",
    "                'id_dataset':'5ea209c495162936348f13eb',\n",
    "                'feature' : 'text',\n",
    "                'filter_text' : negative_filter\n",
    "            }\n",
    "df_blend = OpenBlender.timeBlend( token = token,\n",
    "                                  anchor_ts = df.timestamp,\n",
    "                                  blend_source = blend_source,\n",
    "                                  blend_type = 'agg_in_intervals', #closest_observation\n",
    "                                  interval_size = 60 * 60 * 24,\n",
    "                                  direction = 'time_prior',\n",
    "                                  interval_output = 'list',\n",
    "                                  missing_values = 'raw')\n",
    "df = pd.concat([df, df_blend.loc[:, df_blend.columns != 'timestamp']], axis = 1)\n",
    "df.to_csv(r'Lite_ngrams.csv')"
   ]
  },
  {
   "cell_type": "code",
   "execution_count": 16,
   "id": "eaa57fe6-3a44-4bdf-9d4b-7803baa3c751",
   "metadata": {},
   "outputs": [
    {
     "name": "stdout",
     "output_type": "stream",
     "text": [
      "target                                      1.000000\n",
      "CRYPTOCURR.text_COUNT_last1days:positive    0.008536\n",
      "CRYPTOCURR.text_COUNT_last1days:positive    0.008536\n",
      "CRYPTOCURR.text_COUNT_last1days:negative   -0.001385\n",
      "CRYPTOCURR.text_COUNT_last1days:negative   -0.001385\n",
      "Name: target, dtype: float64\n"
     ]
    }
   ],
   "source": [
    "features = ['target', 'CRYPTOCURR.text_COUNT_last1days:positive', 'CRYPTOCURR.text_COUNT_last1days:negative']\n",
    "df[features].corr()['target']\n",
    "df_anchor = df[features].corr()['target']\n",
    "print(df_anchor)\n",
    "df_anchor.to_csv(r'Lite_correlation.csv')"
   ]
  },
  {
   "cell_type": "code",
   "execution_count": null,
   "id": "7307fea5-f7c2-4b5b-8568-87a09f4b5636",
   "metadata": {},
   "outputs": [],
   "source": []
  }
 ],
 "metadata": {
  "kernelspec": {
   "display_name": "Python [conda env:crypto-anal] *",
   "language": "python",
   "name": "conda-env-crypto-anal-py"
  },
  "language_info": {
   "codemirror_mode": {
    "name": "ipython",
    "version": 3
   },
   "file_extension": ".py",
   "mimetype": "text/x-python",
   "name": "python",
   "nbconvert_exporter": "python",
   "pygments_lexer": "ipython3",
   "version": "3.8.10"
  }
 },
 "nbformat": 4,
 "nbformat_minor": 5
}
